{
 "cells": [
  {
   "cell_type": "markdown",
   "id": "8daa556c-6376-420f-8e04-3adb7dc1d344",
   "metadata": {},
   "source": [
    "# String Operations"
   ]
  },
  {
   "cell_type": "markdown",
   "id": "2e87eb44-13e4-442c-95e3-88116784376e",
   "metadata": {},
   "source": [
    "# WHAT IS STRING??\n",
    "\n",
    " - **\"MY NAME IS RAHUL\"**\n",
    "   \n",
    " - **'MY NAME IS RAHUL'**\n",
    "   \n",
    " - **'1,2,3,4,5'**\n",
    "   \n",
    " - __'@#2#]&*^%$'__"
   ]
  },
  {
   "cell_type": "markdown",
   "id": "38576c9d-7e54-4b6c-b237-6dac9aa8eead",
   "metadata": {},
   "source": [
    "## We can print our string using the print statement:"
   ]
  },
  {
   "cell_type": "code",
   "execution_count": 3,
   "id": "d5b035b9-89bf-4784-917e-3f70f0b54f0b",
   "metadata": {},
   "outputs": [
    {
     "name": "stdout",
     "output_type": "stream",
     "text": [
      "hello world\n"
     ]
    }
   ],
   "source": [
    "print('hello world')"
   ]
  },
  {
   "cell_type": "markdown",
   "id": "89040dea-2755-4cee-a757-a61dc69575db",
   "metadata": {},
   "source": [
    "## We can bind or assign a string to another variable:"
   ]
  },
  {
   "cell_type": "code",
   "execution_count": 5,
   "id": "70f6f960-ab55-42a1-9e31-ff09f2af8124",
   "metadata": {},
   "outputs": [
    {
     "name": "stdout",
     "output_type": "stream",
     "text": [
      "rahul is the best\n"
     ]
    }
   ],
   "source": [
    "x='rahul is the best'\n",
    "print(x)"
   ]
  },
  {
   "cell_type": "code",
   "execution_count": null,
   "id": "044460f5-81f0-4018-991d-d65dbb2e2c41",
   "metadata": {},
   "outputs": [],
   "source": []
  }
 ],
 "metadata": {
  "kernelspec": {
   "display_name": "Python 3 (ipykernel)",
   "language": "python",
   "name": "python3"
  },
  "language_info": {
   "codemirror_mode": {
    "name": "ipython",
    "version": 3
   },
   "file_extension": ".py",
   "mimetype": "text/x-python",
   "name": "python",
   "nbconvert_exporter": "python",
   "pygments_lexer": "ipython3",
   "version": "3.12.4"
  }
 },
 "nbformat": 4,
 "nbformat_minor": 5
}
